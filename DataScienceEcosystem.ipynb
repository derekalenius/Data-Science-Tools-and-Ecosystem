{
 "cells": [
  {
   "cell_type": "markdown",
   "id": "29ea14f8-bbf1-409c-8a8f-4a0e8658cb80",
   "metadata": {},
   "source": [
    "# Data Science Tools and Ecosystem"
   ]
  },
  {
   "cell_type": "markdown",
   "id": "0457b5a9-315b-4183-8456-698f29997d6b",
   "metadata": {},
   "source": [
    "In this notebook, Data Science Tools and Ecosystem are summarized."
   ]
  },
  {
   "cell_type": "markdown",
   "id": "892be635-1e8b-419e-affc-58fb6db27a41",
   "metadata": {},
   "source": [
    "Some of the most popular languages that Data Scientists use are:\n",
    "\n",
    "1. Python\n",
    "2. R\n",
    "3. SQL\n",
    "4. Java\n",
    "5. Julia"
   ]
  },
  {
   "cell_type": "markdown",
   "id": "f31efc4a-1aa1-4c02-aa62-1ce019d6d1d8",
   "metadata": {},
   "source": [
    "Some of the commonly used libraries used by Data Scientists include:\n",
    "\n",
    "1. pandas\n",
    "2. scikit-learn\n",
    "3. TensorFlow\n",
    "4. NumPy\n",
    "5. Keras\n",
    "\n"
   ]
  },
  {
   "cell_type": "markdown",
   "id": "ae327063-ecac-4500-90ec-1d440bc13faa",
   "metadata": {
    "tags": []
   },
   "source": [
    "|Data Science Tools|\n",
    "|------------------|\n",
    "|Jupyter Notebooks|\n",
    "|RStudio|\n",
    "|VSCode|"
   ]
  },
  {
   "cell_type": "markdown",
   "id": "9e88c4d3-c103-4bd4-9ee0-c13f9734d373",
   "metadata": {},
   "source": [
    "### Below are a few examples of evaluating arithmetic expressions in Python"
   ]
  },
  {
   "cell_type": "code",
   "execution_count": 2,
   "id": "1967b987-8e3a-479c-b03e-054621472554",
   "metadata": {
    "tags": []
   },
   "outputs": [
    {
     "data": {
      "text/plain": [
       "17"
      ]
     },
     "execution_count": 2,
     "metadata": {},
     "output_type": "execute_result"
    }
   ],
   "source": [
    "# This is a simple arithmetic expression to multiply then add integers\n",
    "(3*4)+5"
   ]
  },
  {
   "cell_type": "code",
   "execution_count": 3,
   "id": "ad36428d-c6c6-4b1a-987c-6bd48749b34e",
   "metadata": {
    "tags": []
   },
   "outputs": [
    {
     "data": {
      "text/plain": [
       "3.3333333333333335"
      ]
     },
     "execution_count": 3,
     "metadata": {},
     "output_type": "execute_result"
    }
   ],
   "source": [
    "# This will convert 200 minutes to hours by dividing 60\n",
    "200/60"
   ]
  },
  {
   "cell_type": "markdown",
   "id": "43d93c37-5ace-4c9f-9b32-63d69374371c",
   "metadata": {},
   "source": [
    "**Objectives**\n",
    "\n",
    "- List of the most popular languages for Data Science\n",
    "- List of the most common used languages for Data Science\n",
    "- A table containing three open source tools used in data science\n",
    "- An example of multiplication followed by addition in Python\n",
    "- An example of converting minutes to hours in Python"
   ]
  },
  {
   "cell_type": "markdown",
   "id": "e7362354-7c83-4554-ac77-e4395b9a6efc",
   "metadata": {},
   "source": [
    "## Author\n",
    "\n",
    "Derek Alenius"
   ]
  },
  {
   "cell_type": "code",
   "execution_count": null,
   "id": "abc5ec55-d7bf-4e7b-943a-b75e3e5c3098",
   "metadata": {},
   "outputs": [],
   "source": []
  }
 ],
 "metadata": {
  "kernelspec": {
   "display_name": "Python",
   "language": "python",
   "name": "conda-env-python-py"
  },
  "language_info": {
   "codemirror_mode": {
    "name": "ipython",
    "version": 3
   },
   "file_extension": ".py",
   "mimetype": "text/x-python",
   "name": "python",
   "nbconvert_exporter": "python",
   "pygments_lexer": "ipython3",
   "version": "3.7.12"
  }
 },
 "nbformat": 4,
 "nbformat_minor": 5
}
